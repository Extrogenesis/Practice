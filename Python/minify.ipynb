{
 "cells": [
  {
   "cell_type": "code",
   "execution_count": 1,
   "metadata": {},
   "outputs": [],
   "source": [
    "text = \"Lorem ipsum dolor sit amet, consectetur adipiscing elit. Etiam nec felis imperdiet, vulputate dui nec, blandit nibh. In blandit aliquam elit sed convallis. Donec luctus lacinia felis, sit amet ultrices nulla mattis ac. Phasellus posuere ipsum et tellus lacinia fringilla. Vestibulum pellentesque eu sapien ut mollis. Cras eleifend iaculis vestibulum. Aenean nec quam ac sem suscipit sagittis. Morbi nec diam suscipit, efficitur mi ut, malesuada dolor. Proin elit orci, congue sed semper ut, elementum non lectus. Mauris egestas sapien semper nisi venenatis, nec convallis velit accumsan. Fusce porta sagittis posuere. Donec tempus mauris condimentum tincidunt accumsan. Integer ut interdum felis. Sed quis accumsan ante. Ut ac turpis fermentum, venenatis purus eget, facilisis massa.\""
   ]
  },
  {
   "cell_type": "code",
   "execution_count": 2,
   "metadata": {},
   "outputs": [
    {
     "name": "stdout",
     "output_type": "stream",
     "text": [
      "Lorem ipsum dolor sit amet, consectetur adipiscing elit. Etiam nec felis imperdiet, vulputate dui nec, blandit nibh. In blandit aliquam elit sed convallis. Donec luctus lacinia felis, sit amet ultrices nulla mattis ac. Phasellus posuere ipsum et tellus lacinia fringilla. Vestibulum pellentesque eu sapien ut mollis. Cras eleifend iaculis vestibulum. Aenean nec quam ac sem suscipit sagittis. Morbi nec diam suscipit, efficitur mi ut, malesuada dolor. Proin elit orci, congue sed semper ut, elementum non lectus. Mauris egestas sapien semper nisi venenatis, nec convallis velit accumsan. Fusce porta sagittis posuere. Donec tempus mauris condimentum tincidunt accumsan. Integer ut interdum felis. Sed quis accumsan ante. Ut ac turpis fermentum, venenatis purus eget, facilisis massa.\n"
     ]
    }
   ],
   "source": [
    "print (text)"
   ]
  },
  {
   "cell_type": "code",
   "execution_count": 10,
   "metadata": {},
   "outputs": [
    {
     "data": {
      "text/plain": [
       "'Loremipsumdolorsitamet,consecteturadipiscingelit.Etiamnecfelisimperdiet,vulputateduinec,blanditnibh.Inblanditaliquamelitsedconvallis.Donecluctuslaciniafelis,sitametultricesnullamattisac.Phasellusposuereipsumettelluslaciniafringilla.Vestibulumpellentesqueeusapienutmollis.Craseleifendiaculisvestibulum.Aeneannecquamacsemsuscipitsagittis.Morbinecdiamsuscipit,efficiturmiut,malesuadadolor.Proinelitorci,conguesedsemperut,elementumnonlectus.Maurisegestassapiensempernisivenenatis,necconvallisvelitaccumsan.Fusceportasagittisposuere.Donectempusmauriscondimentumtinciduntaccumsan.Integerutinterdumfelis.Sedquisaccumsanante.Utacturpisfermentum,venenatispuruseget,facilisismassa.'"
      ]
     },
     "execution_count": 10,
     "metadata": {},
     "output_type": "execute_result"
    }
   ],
   "source": [
    "text.replace(' ', '')"
   ]
  }
 ],
 "metadata": {
  "kernelspec": {
   "display_name": "Python 3",
   "language": "python",
   "name": "python3"
  },
  "language_info": {
   "codemirror_mode": {
    "name": "ipython",
    "version": 3
   },
   "file_extension": ".py",
   "mimetype": "text/x-python",
   "name": "python",
   "nbconvert_exporter": "python",
   "pygments_lexer": "ipython3",
   "version": "3.7.3"
  }
 },
 "nbformat": 4,
 "nbformat_minor": 2
}
