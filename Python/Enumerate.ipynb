{
 "cells": [
  {
   "cell_type": "markdown",
   "metadata": {},
   "source": [
    "[Python Docs](https://docs.python.org/2/library/functions.html#enumerate)  \n",
    "\n",
    "Returns a tuples containing the count from an object that support iteration starting at 0."
   ]
  },
  {
   "cell_type": "code",
   "execution_count": 1,
   "metadata": {},
   "outputs": [],
   "source": [
    "colors = ['red', 'blue', 'green', 'yellow', 'black', 'orange']"
   ]
  },
  {
   "cell_type": "code",
   "execution_count": 2,
   "metadata": {},
   "outputs": [
    {
     "name": "stdout",
     "output_type": "stream",
     "text": [
      "['red', 'blue', 'green', 'yellow', 'black', 'orange']\n"
     ]
    }
   ],
   "source": [
    "print (colors)"
   ]
  },
  {
   "cell_type": "code",
   "execution_count": 11,
   "metadata": {},
   "outputs": [
    {
     "name": "stdout",
     "output_type": "stream",
     "text": [
      "(0, 'red')\n",
      "(1, 'blue')\n",
      "(2, 'green')\n",
      "(3, 'yellow')\n",
      "(4, 'black')\n",
      "(5, 'orange')\n"
     ]
    }
   ],
   "source": [
    "for i in enumerate(colors):\n",
    "    print (i)\n",
    "    "
   ]
  },
  {
   "cell_type": "code",
   "execution_count": 13,
   "metadata": {},
   "outputs": [
    {
     "name": "stdout",
     "output_type": "stream",
     "text": [
      "[0, 'red']\n",
      "[1, 'blue']\n",
      "[2, 'green']\n",
      "[3, 'yellow']\n",
      "[4, 'black']\n",
      "[5, 'orange']\n"
     ]
    }
   ],
   "source": [
    "for i in enumerate(colors):\n",
    "    print (list(i))"
   ]
  }
 ],
 "metadata": {
  "kernelspec": {
   "display_name": "Python 3",
   "language": "python",
   "name": "python3"
  },
  "language_info": {
   "codemirror_mode": {
    "name": "ipython",
    "version": 3
   },
   "file_extension": ".py",
   "mimetype": "text/x-python",
   "name": "python",
   "nbconvert_exporter": "python",
   "pygments_lexer": "ipython3",
   "version": "3.7.3"
  }
 },
 "nbformat": 4,
 "nbformat_minor": 2
}
